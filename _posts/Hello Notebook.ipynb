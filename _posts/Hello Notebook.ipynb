{
 "cells": [
  {
   "cell_type": "markdown",
   "id": "8898bcf3-fc59-42e4-8fa8-bcf953c7cb7a",
   "metadata": {},
   "source": [
    "## Hello Notebook, nice to see you!"
   ]
  },
  {
   "cell_type": "code",
   "execution_count": null,
   "id": "adce3c39-2b2a-4534-977d-1716dac62e96",
   "metadata": {},
   "outputs": [],
   "source": []
  }
 ],
 "metadata": {
  "kernelspec": {
   "display_name": "Python 3 (ipykernel)",
   "language": "python",
   "name": "python3"
  },
  "language_info": {
   "codemirror_mode": {
    "name": "ipython",
    "version": 3
   },
   "file_extension": ".py",
   "mimetype": "text/x-python",
   "name": "python",
   "nbconvert_exporter": "python",
   "pygments_lexer": "ipython3",
   "version": "3.10.12"
  }
 },
 "nbformat": 4,
 "nbformat_minor": 5
}
